{
 "cells": [
  {
   "cell_type": "markdown",
   "id": "b4b6a552-b7f0-433d-9a70-61c4fcc52d5d",
   "metadata": {},
   "source": [
    "# 快速入门 GPT-4 Vison\n",
    "\n",
    "从历史上看，语言模型系统仅接受**文本**作为输入。但是单一的输入形式，限制了大模型的应用落地范围。\n",
    "\n",
    "随着技术发展，OpenAI 开发的 GPT-4 Turbo with Vision（简称 GPT-4V）允许模型接收**图像**作为输入，并回答关于它们的问题。\n",
    "\n",
    "📢注意，目前在 Assistants API 中使用 GPT-4 时还不支持图像输入。"
   ]
  },
  {
   "cell_type": "markdown",
   "id": "3a701c56-0a2a-4dea-b458-234150b84ff2",
   "metadata": {},
   "source": [
    "## 使用 GPT-4V 识别线上图像（URL）\n",
    "\n",
    "![image_sample](https://upload.wikimedia.org/wikipedia/commons/thumb/d/dd/Gfp-wisconsin-madison-the-nature-boardwalk.jpg/2560px-Gfp-wisconsin-madison-the-nature-boardwalk.jpg)"
   ]
  },
  {
   "cell_type": "code",
   "execution_count": 8,
   "id": "bf8689b2-94f2-4a35-a332-9ffed0a56aca",
   "metadata": {},
   "outputs": [
    {
     "name": "stdout",
     "output_type": "stream",
     "text": [
      "Choice(finish_reason='stop', index=0, logprobs=None, message=ChatCompletionMessage(content='这幅图显示了一条木制的步道穿行于一片广阔的绿色草地中。步道直直地伸展，似乎引导着观赏者走向远方的自然风光。草地两侧生长着密集的高草和一些灌木，给人一种野生而未经开发的感觉。天空是晴朗的，有着几朵轻盈的白云，增添了一份宁静和广阔的氛围。\\n\\n整体上，这幅图表现了一种平和而美丽的自然景观，是徒步旅行和自然观察的理想场所。图中的色彩饱和且丰富，从鲜亮的绿色到淡蓝的天空，构成了一幅吸引人的自然风光画面。这样的场景可以让人感受到大自然的宁静与和谐。', role='assistant', function_call=None, tool_calls=None))\n"
     ]
    }
   ],
   "source": [
    "from openai import OpenAI\n",
    "\n",
    "client = OpenAI(base_url=\"https://api.xiaoai.plus/v1\", api_key=\"sk-20kg2ng944ZYhmdr87Db79E9323e48DaA1470c40B4B5439c\")\n",
    "\n",
    "response = client.chat.completions.create(\n",
    "  model=\"gpt-4-turbo\",\n",
    "  messages=[\n",
    "    {\n",
    "      \"role\": \"user\",\n",
    "      \"content\": [\n",
    "        {\"type\": \"text\", \"text\": \"介绍下这幅图?\"},\n",
    "        {\n",
    "          \"type\": \"image_url\",\n",
    "          \"image_url\": {\n",
    "            \"url\": \"https://upload.wikimedia.org/wikipedia/commons/thumb/d/dd/Gfp-wisconsin-madison-the-nature-boardwalk.jpg/2560px-Gfp-wisconsin-madison-the-nature-boardwalk.jpg\",\n",
    "          },\n",
    "        },\n",
    "      ],\n",
    "    }\n",
    "  ],\n",
    "  max_tokens=300,\n",
    ")\n",
    "\n",
    "print(response.choices[0])"
   ]
  },
  {
   "cell_type": "code",
   "execution_count": 2,
   "id": "9bcc9026-7485-428f-8269-ea9ae41405cb",
   "metadata": {},
   "outputs": [
    {
     "data": {
      "text/plain": [
       "'这幅图呈现了一个宁静美丽的自然景观。图中的主要特点是一条木制的栈道，它穿越在郁郁葱葱的草地上，引向远处看不到的终点。草地上覆盖着茂密的绿色植被，显示出生机勃勃的春夏季节。背景中天空呈现出澄清的蓝色，点缀着几朵轻盈的白云，增添了一种宁静和平和的氛围。\\n\\n整个场景光线充足，阳光和蓝天与绿色植被的对比令人感觉清新愉快。这样的环境可能是理想的徒步旅行地点，提供了亲近自然和放松心情的完美机会。整体上，这幅图传达了大自然的宁静与和谐，是观赏和体验自然美景的一种'"
      ]
     },
     "execution_count": 2,
     "metadata": {},
     "output_type": "execute_result"
    }
   ],
   "source": [
    "response.choices[0].message.content"
   ]
  },
  {
   "cell_type": "markdown",
   "id": "7fb50a14-fa14-4c63-9f81-b98b0f65d9d9",
   "metadata": {},
   "source": [
    "### 封装成一个函数 query_image_description"
   ]
  },
  {
   "cell_type": "code",
   "execution_count": 13,
   "id": "c1ca5428-c7e1-4d7e-91f1-d4a05e95ac51",
   "metadata": {},
   "outputs": [],
   "source": [
    "def query_image_description(url, prompt=\"介绍下这幅图?\"):\n",
    "    client = OpenAI(base_url=\"https://api.xiaoai.plus/v1\", api_key=\"sk-20kg2ng944ZYhmdr87Db79E9323e48DaA1470c40B4B5439c\")\n",
    "    \n",
    "    # 发送请求给 OpenAI 的聊天模型\n",
    "    response = client.chat.completions.create(\n",
    "        model=\"gpt-4-turbo\",  # 指定使用的模型\n",
    "        messages=[\n",
    "            {\n",
    "                \"role\": \"user\",\n",
    "                \"content\": [\n",
    "                    {\"type\": \"text\", \"text\": prompt},\n",
    "                    {\"type\": \"image_url\", \"image_url\": {\"url\": url}},\n",
    "                ],\n",
    "            }\n",
    "        ],\n",
    "        max_tokens=300,\n",
    "    )\n",
    "    \n",
    "    # 返回模型的响应\n",
    "    return response.choices[0].message.content\n"
   ]
  },
  {
   "cell_type": "markdown",
   "id": "a0d0aceb-7cc5-4da1-b6db-e47716ba145a",
   "metadata": {},
   "source": [
    "### 调用函数测试\n",
    "\n",
    "![meme_0](https://p6.itc.cn/q_70/images03/20200602/0c267a0d3d814c9783659eb956969ba1.jpeg)"
   ]
  },
  {
   "cell_type": "code",
   "execution_count": 14,
   "id": "454abb5c-49d3-42e6-867e-f44e25af5e0e",
   "metadata": {},
   "outputs": [
    {
     "name": "stdout",
     "output_type": "stream",
     "text": [
      "这幅图用幽默的方式展示了两种不同的狗，左边是一只肌肉发达的壮狗，右边是一只看起来相对普通、略显悠闲的狗。图中的文字在对比这两只狗的特质，左边的狗用“16岁的我——工作后的我”来形容，凸显其强壮和活力。文字还包括：“我刚读一片光盘，身体素质好，人世间的枭雄。”右边的狗则以“好想不眠 看电视动漫”以及“生活没有压力 错误的职业道路，饮食习惯差，精神状态差”来形容，表现了一种更加消极、缺乏动力的状态。\n",
      "\n",
      "这种对比展示了在不同生活阶段、压力和环境影响下，同一个人（或在此图中指狗）可能呈现出的截然不\n"
     ]
    }
   ],
   "source": [
    "image_url = \"https://p6.itc.cn/q_70/images03/20200602/0c267a0d3d814c9783659eb956969ba1.jpeg\"\n",
    "content = query_image_description(image_url)\n",
    "print(content)"
   ]
  },
  {
   "cell_type": "code",
   "execution_count": null,
   "id": "2471306a-84e2-4793-b065-0741fbe57262",
   "metadata": {},
   "outputs": [],
   "source": []
  },
  {
   "cell_type": "code",
   "execution_count": null,
   "id": "af79850f-83b5-49c4-a3f3-f2c01a28f458",
   "metadata": {},
   "outputs": [],
   "source": []
  },
  {
   "cell_type": "markdown",
   "id": "63ae05bd-872c-4638-8259-df4f420aaa1d",
   "metadata": {},
   "source": [
    "### 使用 GPT-4V 识别本地图像文件（Base64编码）\n"
   ]
  },
  {
   "cell_type": "code",
   "execution_count": 26,
   "id": "1e83da68-d387-46da-8236-78fc607d1fab",
   "metadata": {},
   "outputs": [],
   "source": [
    "from openai import OpenAI\n",
    "import base64\n",
    "import requests\n",
    "import json\n",
    "\n",
    "client = OpenAI(base_url=\"https://api.xiaoai.plus/v1\", api_key=\"sk-20kg2ng944ZYhmdr87Db79E9323e48DaA1470c40B4B5439c\")\n",
    "\n",
    "def query_base64_image_description(image_path, prompt=\"解释下这台车是什么车,哪一款？是不是改装过?颜色是?\", max_tokens=1000):\n",
    "\n",
    "    # 实现 Base64 编码\n",
    "    def encode_image(path):\n",
    "        with open(path, \"rb\") as image_file:\n",
    "            return base64.b64encode(image_file.read()).decode('utf-8')\n",
    "\n",
    "    # 获取图像的 Base64 编码字符串\n",
    "    base64_image = encode_image(image_path)\n",
    "\n",
    "    # 构造请求的 HTTP Header\n",
    "    headers = {\n",
    "        \"Content-Type\": \"application/json\",\n",
    "        \"Authorization\": f\"Bearer {client.api_key}\"\n",
    "    }\n",
    "\n",
    "    # 构造请求的负载\n",
    "    payload = {\n",
    "        \"model\": \"gpt-4-turbo\",\n",
    "        \"messages\": [\n",
    "            {\n",
    "                \"role\": \"user\",\n",
    "                \"content\": [\n",
    "                    {\"type\": \"text\", \"text\": prompt},\n",
    "                    {\"type\": \"image_url\", \"image_url\": {\"url\": f\"data:image/jpeg;base64,{base64_image}\"}}\n",
    "                ]\n",
    "            }\n",
    "        ],\n",
    "        \"max_tokens\": max_tokens\n",
    "    }\n",
    "\n",
    "    # 发送 HTTP 请求\n",
    "    response = requests.post(\"https://api.xiaoai.plus/v1/chat/completions\", headers=headers, json=payload)\n",
    "\n",
    "    # 检查响应并提取所需的 content 字段\n",
    "    if response.status_code == 200:\n",
    "        response_data = response.json()\n",
    "        content = response_data['choices'][0]['message']['content']\n",
    "        return content\n",
    "    else:\n",
    "        return f\"Error: {response.status_code}, {response.text}\""
   ]
  },
  {
   "cell_type": "markdown",
   "id": "89dd0f99-8086-473f-80a4-497e6dd07c17",
   "metadata": {},
   "source": [
    "#### 使用 Assistants API生成的 GDP 40年对比曲线图\n",
    "\n",
    "![gdp_data](./images/gdp_1980_2020.jpg)"
   ]
  },
  {
   "cell_type": "code",
   "execution_count": 27,
   "id": "3c0e9063-e8d9-4bc1-ae60-ad0aa5bee32b",
   "metadata": {},
   "outputs": [
    {
     "name": "stdout",
     "output_type": "stream",
     "text": [
      "这台车是一辆标致（Peugeot）轿车，从车头的设计来看，可能是标致307或类似款式。这款车拥有较为典型的标致前端设计，包括品牌特有的前格栅和标志。\n",
      "\n",
      "从图片中看，车辆似乎保持了原厂设计，没有明显的改装迹象。车的颜色是白色。\n",
      "\n",
      "具体的车型和配置可能需要更多的细节或车辆其他角度的图片来进一步确认。\n"
     ]
    }
   ],
   "source": [
    "content = query_base64_image_description(\"./images/aaa.jpg\")\n",
    "print(content)"
   ]
  },
  {
   "cell_type": "markdown",
   "id": "6d18b227-32a6-4450-86bd-c99ad5c533b9",
   "metadata": {},
   "source": [
    "#### 使用 GPT-4V 识别手写体笔记\n",
    "\n",
    "![](./images/handwriting_0.jpg)"
   ]
  },
  {
   "cell_type": "code",
   "execution_count": 22,
   "id": "4193fa11-5edd-404c-9472-0cb8cc6799fc",
   "metadata": {},
   "outputs": [
    {
     "name": "stdout",
     "output_type": "stream",
     "text": [
      "这张图片显示的是一本笔记本里手写的笔记，内容主要关于人工智能语言模型的调优策略，针对的是P-Tuning、Prompt Tuning和LoRA技术。\n",
      "\n",
      "1. **Prompt Tuning (Prompt Tuning ( FMT & Small Model ))**：这段笔记解释了Prompt Tuning用于小型模型的方法。Prompt Tuning通常指在固定预训练模型的参数的前提下，通过调整输入到模型的少量“prompts”（提示符），从而使模型更好地适应特定任务。在笔记中提到输入X由一系列的embedding后的tokens组成，并输出Y。\n",
      "\n",
      "2. **Prefix Tuning**：这里详细介绍了Prefix Tuning策略，在训练过程中，通过添加前缀（一组可学习的向量）来调节模型行为，使模型输出期望的Y。其中提到了这些前缀是通过Transformer结构的Encoder/Decoder处理的。\n",
      "\n",
      "3. **LoRA (Low-Rank Adaptation)**： 介绍了LoRA技术，它是一种模型参数调优的方法，通过低秩逼近来调整模型的权重矩阵W。通过增加一个小的权重更新ΔW，这个更新通过两个矩阵A和B的乘积得到，用以实现模型的细粒度调整，最后输出的模型表达为(W+ΔW)X，体现了通过低秩矩阵实现的调整效果。笔记还提到了Q-LORA和相关的存储需求变化（例如LoRA模型需要78GB，Q-LORA则需要48GB存储）。\n",
      "\n",
      "整体来看，这张图片中的笔记内容非常专业，涉及到了深度学习和自然语言处理领域内的高级技术概念。\n"
     ]
    }
   ],
   "source": [
    "content = query_base64_image_description(\"./images/handwriting_0.jpg\")\n",
    "print(content)"
   ]
  },
  {
   "cell_type": "markdown",
   "id": "ca046601-018c-455c-ace2-41392cbda456",
   "metadata": {},
   "source": [
    "#### 在 Jupyter 标准输出中渲染 Markdown 格式内容"
   ]
  },
  {
   "cell_type": "code",
   "execution_count": 31,
   "id": "516ee35b-1337-4b22-aea2-ee0adb706098",
   "metadata": {},
   "outputs": [
    {
     "data": {
      "text/markdown": [
       "这张图片显示的不是车子，而是一本笔记本的一页，上面记载着与人工智能相关的术语和说明。图中的笔记包括了关于变换器（Transformers），PEFT、SOTA等技术的内容细节。不涉及任何关于车辆的信息，也没有提到颜色或改装等方面的内容。如果有其他问题或需要解答其他图片内容，请提供更多细节或上传相关图片。"
      ],
      "text/plain": [
       "<IPython.core.display.Markdown object>"
      ]
     },
     "metadata": {},
     "output_type": "display_data"
    }
   ],
   "source": [
    "from IPython.display import display, Markdown\n",
    "\n",
    "# 使用 display 和 Markdown 函数显示 Markdown 内容\n",
    "display(Markdown(content))"
   ]
  },
  {
   "cell_type": "markdown",
   "id": "b72ebbe3-87cc-4867-9cf0-62e5ed684482",
   "metadata": {},
   "source": [
    "![](./images/handwriting_1.jpg)"
   ]
  },
  {
   "cell_type": "code",
   "execution_count": 30,
   "id": "7c046958-aa7a-4066-88fa-4134869d9226",
   "metadata": {},
   "outputs": [
    {
     "ename": "NameError",
     "evalue": "name 'Markdown' is not defined",
     "output_type": "error",
     "traceback": [
      "\u001b[1;31m---------------------------------------------------------------------------\u001b[0m",
      "\u001b[1;31mNameError\u001b[0m                                 Traceback (most recent call last)",
      "Cell \u001b[1;32mIn[30], line 2\u001b[0m\n\u001b[0;32m      1\u001b[0m content \u001b[38;5;241m=\u001b[39m query_base64_image_description(\u001b[38;5;124m\"\u001b[39m\u001b[38;5;124m./images/handwriting_1.jpg\u001b[39m\u001b[38;5;124m\"\u001b[39m)\n\u001b[1;32m----> 2\u001b[0m display(\u001b[43mMarkdown\u001b[49m(content))\n",
      "\u001b[1;31mNameError\u001b[0m: name 'Markdown' is not defined"
     ]
    }
   ],
   "source": [
    "content = query_base64_image_description(\"./images/handwriting_1.jpg\")\n",
    "display(Markdown(content))"
   ]
  },
  {
   "cell_type": "code",
   "execution_count": null,
   "id": "156a0f17-cca8-4f01-9ce5-53384b5ffda4",
   "metadata": {},
   "outputs": [],
   "source": []
  },
  {
   "cell_type": "code",
   "execution_count": null,
   "id": "e3bd772f-9492-4f6c-b05a-666b772ca3c9",
   "metadata": {},
   "outputs": [],
   "source": []
  },
  {
   "cell_type": "code",
   "execution_count": null,
   "id": "8afdeacb-aac1-4692-be2b-fb7957ba5e8f",
   "metadata": {},
   "outputs": [],
   "source": []
  },
  {
   "cell_type": "markdown",
   "id": "79a8d459-d98e-4215-9fbf-38ad37080475",
   "metadata": {},
   "source": [
    "## Homework: \n",
    "\n",
    "\n",
    "### #1\n",
    "\n",
    "使用 GPT-4V 识别带有手写体文字的本地图像文件，分享结果。\n",
    "\n",
    "### #2\n",
    "\n",
    "整合 `query_base64_image_description` 函数和 Markdown 格式渲染方法，使得输出结果更易阅读。"
   ]
  },
  {
   "cell_type": "code",
   "execution_count": null,
   "id": "85c75c69-5dd9-4d4b-91f2-e08247ddf966",
   "metadata": {},
   "outputs": [],
   "source": [
    "第一个作业:"
   ]
  },
  {
   "cell_type": "code",
   "execution_count": 28,
   "id": "0909bf27-9c4a-498c-9fae-0f442062b9a8",
   "metadata": {},
   "outputs": [
    {
     "name": "stdout",
     "output_type": "stream",
     "text": [
      "这张图片显示的是一本笔记本的一页，记录的内容与车辆无关，而是关于机器学习和深度学习模型的一些笔记。文字描述涉及到Prompt Tuning, Prefix Tuning, LoRA等机器学习术语，并探讨了这些技术如何应用于自然语言处理中的模型。图片中没有显示任何车辆或其他与车辆相关的信息。\n"
     ]
    }
   ],
   "source": [
    "content = query_base64_image_description(\"./images/handwriting_0.jpg\")\n",
    "print(content)"
   ]
  },
  {
   "cell_type": "code",
   "execution_count": null,
   "id": "6c6f6b37-9fb1-4992-b466-decde9960e63",
   "metadata": {},
   "outputs": [],
   "source": [
    "第二个作业"
   ]
  },
  {
   "cell_type": "code",
   "execution_count": 32,
   "id": "d4371954-0097-434f-b6a0-d934e903aaf0",
   "metadata": {},
   "outputs": [
    {
     "data": {
      "text/markdown": [
       "这是一份关于深度学习模型（特别是Transformers模型）的笔记，重点在于模型调节（tuning）与适配方法（adapters）。笔记记录了多种方法和技术，以及它们的相关源头（例如，来自Google或Stanford的研究）。此外，也提到了某些特定类型的模型融合与改进方案。\n",
       "\n",
       "以下是以markdown格式整理的部分内容概览：\n",
       "\n",
       "### 转换器模型与基准\n",
       "- **Transformers**：高效性能\n",
       "- **Benchmark**：性能测试标准\n",
       "\n",
       "### 模型微调方法\n",
       "- **PEFT/SOTA**: 现有最佳方法\n",
       "- **PBFT Methods**: 模型具体微调技术\n",
       "\n",
       "### PEFT细节\n",
       "- **Prompt Tuning**：\n",
       "  - Adapter (2019, Google)\n",
       "  - Prefix (2021, Stanford)\n",
       "  - Prompt (2021, Google)\n",
       "  - P-Tuning v1 (2021)\n",
       "  - P-Tuning v2 (2022)\n",
       "  - Soft Prompts (2021)\n",
       "  - Hand Prompts (template-based)\n",
       "- **Instruction Tuning for LLMs**:\n",
       "  - Google API\n",
       "  - 等等\n",
       "\n",
       "### 新方法与改进\n",
       "- **LoRA**: 局部重训练注意力模型\n",
       "- **GLoRA**: 广义LoRA\n",
       "- **AdaptLoRA**\n",
       "- **PETC (2022)**\n",
       "- **IA3**\n",
       "\n",
       "### Prefix-tuning & Adapters的进一步探讨\n",
       "- **Refine in LLMs**: 提炼在大型语言模型中\n",
       "- **Project down & project up**: 降维与升维操作\n",
       "- **Insertion Form - added type**: 插入形式\n",
       "- **Manifested representation**: 表现形式\n",
       "- **Composition function**: 组合函数\n",
       "- **MAM Adapters**:\n",
       "  - 对模型进行微调以适应更加特殊的需求\n",
       "\n",
       "这些笔记显然是对先进的深度学习技术的探讨和记录，可能对进行复杂模型适配与优化的研究者或开发者特别有用。"
      ],
      "text/plain": [
       "<IPython.core.display.Markdown object>"
      ]
     },
     "metadata": {},
     "output_type": "display_data"
    }
   ],
   "source": [
    "content = query_base64_image_description(\"./images/handwriting_1.jpg\",prompt=\"请解释一下这个笔记,并且用markdown格式输出一下\")\n",
    "display(Markdown(content))"
   ]
  }
 ],
 "metadata": {
  "kernelspec": {
   "display_name": "Python 3 (ipykernel)",
   "language": "python",
   "name": "python3"
  },
  "language_info": {
   "codemirror_mode": {
    "name": "ipython",
    "version": 3
   },
   "file_extension": ".py",
   "mimetype": "text/x-python",
   "name": "python",
   "nbconvert_exporter": "python",
   "pygments_lexer": "ipython3",
   "version": "3.12.4"
  }
 },
 "nbformat": 4,
 "nbformat_minor": 5
}
